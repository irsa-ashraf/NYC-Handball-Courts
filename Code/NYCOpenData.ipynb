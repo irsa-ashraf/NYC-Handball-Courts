{
 "cells": [
  {
   "cell_type": "markdown",
   "id": "58c22616",
   "metadata": {},
   "source": [
    "Exract data on handball courts from NYC Open Data \n",
    "\n",
    "Source:\n",
    "1. DPR_Handball_001.json: https://data.cityofnewyork.us/Recreation/Directory-of-Handball-Courts/aviq-jvfs/about_data"
   ]
  },
  {
   "cell_type": "markdown",
   "id": "14c59490",
   "metadata": {},
   "source": [
    "### Data Dictionary \n",
    "\n",
    "Prop_ID: A unique identifier for the property. The first character is a abbreviation of the borough,\n",
    "followed by a 3 digit number. Anything after the first 4 characters represents a subproperty.\n",
    "Boroughs:\n",
    "X - Bronx\n",
    "B - Brooklyn\n",
    "M - Manhattan\n",
    "Q - Queens\n",
    "R - Staten Island\n",
    "See http://www.nycgovparks.org/bigapps/DPR_Parks_001.xml or http://www.nycgovparks.org/bigapps/DPR_Parks_001.json\n",
    "\n",
    "\n",
    "Name: Name of the property\n",
    "\n",
    "\n",
    "Location: Text location\n",
    "\n",
    "\n",
    "Num_of_Courts: Number of courts in the property"
   ]
  },
  {
   "cell_type": "code",
   "execution_count": 11,
   "id": "2c930b61",
   "metadata": {},
   "outputs": [],
   "source": [
    "import pandas as pd\n",
    "import json\n",
    "import os\n",
    "import matplotlib.pyplot as plt\n",
    "import folium"
   ]
  },
  {
   "cell_type": "code",
   "execution_count": 5,
   "id": "b167979b",
   "metadata": {},
   "outputs": [
    {
     "data": {
      "text/plain": [
       "'/Users/irsaashraf/Desktop/Projects/Cafe Data/NYC-Cafes/Data'"
      ]
     },
     "execution_count": 5,
     "metadata": {},
     "output_type": "execute_result"
    }
   ],
   "source": [
    "current_directory = os.getcwd()\n",
    "data_dir = os.path.join(os.path.dirname(current_directory), 'Data')\n",
    "data_dir"
   ]
  },
  {
   "cell_type": "code",
   "execution_count": 6,
   "id": "0761be5e",
   "metadata": {},
   "outputs": [
    {
     "data": {
      "text/html": [
       "<div>\n",
       "<style scoped>\n",
       "    .dataframe tbody tr th:only-of-type {\n",
       "        vertical-align: middle;\n",
       "    }\n",
       "\n",
       "    .dataframe tbody tr th {\n",
       "        vertical-align: top;\n",
       "    }\n",
       "\n",
       "    .dataframe thead th {\n",
       "        text-align: right;\n",
       "    }\n",
       "</style>\n",
       "<table border=\"1\" class=\"dataframe\">\n",
       "  <thead>\n",
       "    <tr style=\"text-align: right;\">\n",
       "      <th></th>\n",
       "      <th>Prop_ID</th>\n",
       "      <th>Name</th>\n",
       "      <th>Location</th>\n",
       "      <th>Num_of_Courts</th>\n",
       "      <th>lat</th>\n",
       "      <th>lon</th>\n",
       "    </tr>\n",
       "  </thead>\n",
       "  <tbody>\n",
       "    <tr>\n",
       "      <th>0</th>\n",
       "      <td>X174</td>\n",
       "      <td>174 St. Playground</td>\n",
       "      <td>E. 174 and Bronx River Avenue</td>\n",
       "      <td>4.0</td>\n",
       "      <td>NaN</td>\n",
       "      <td>NaN</td>\n",
       "    </tr>\n",
       "    <tr>\n",
       "      <th>1</th>\n",
       "      <td>X126</td>\n",
       "      <td>Abigail Playground</td>\n",
       "      <td>Tinton Avenue, E. 156 St.</td>\n",
       "      <td>2.0</td>\n",
       "      <td>NaN</td>\n",
       "      <td>NaN</td>\n",
       "    </tr>\n",
       "    <tr>\n",
       "      <th>2</th>\n",
       "      <td>X169</td>\n",
       "      <td>Agnes Haywood Playground</td>\n",
       "      <td>E. 215 St., Barnes Ave., E. 216 St.</td>\n",
       "      <td>2.0</td>\n",
       "      <td>40.8804</td>\n",
       "      <td>-73.8621</td>\n",
       "    </tr>\n",
       "    <tr>\n",
       "      <th>3</th>\n",
       "      <td>X172</td>\n",
       "      <td>Allerton Playground</td>\n",
       "      <td>Allerton, Bouck, Throop Aves. &amp; Stedman Place</td>\n",
       "      <td>4.0</td>\n",
       "      <td>40.8659</td>\n",
       "      <td>-73.8506</td>\n",
       "    </tr>\n",
       "    <tr>\n",
       "      <th>4</th>\n",
       "      <td>X219</td>\n",
       "      <td>Arcilla Playground</td>\n",
       "      <td>Clay, Park, and Teller Aves., E. 164 St.</td>\n",
       "      <td>4.0</td>\n",
       "      <td>40.8270</td>\n",
       "      <td>-73.9148</td>\n",
       "    </tr>\n",
       "    <tr>\n",
       "      <th>5</th>\n",
       "      <td>X150J</td>\n",
       "      <td>Bailey Playground</td>\n",
       "      <td>Bailey Avenue &amp; 234 St.</td>\n",
       "      <td>6.0</td>\n",
       "      <td>40.8818</td>\n",
       "      <td>-73.9002</td>\n",
       "    </tr>\n",
       "    <tr>\n",
       "      <th>6</th>\n",
       "      <td>X166</td>\n",
       "      <td>Behagen Playground</td>\n",
       "      <td>165-166 Sts., Union Avenue</td>\n",
       "      <td>2.0</td>\n",
       "      <td>40.8258</td>\n",
       "      <td>-73.9008</td>\n",
       "    </tr>\n",
       "    <tr>\n",
       "      <th>7</th>\n",
       "      <td>X108</td>\n",
       "      <td>Belmont Playground</td>\n",
       "      <td>E. 181 &amp; E. 182 Sts., Crotona &amp; Belmont Aves.</td>\n",
       "      <td>6.0</td>\n",
       "      <td>40.8504</td>\n",
       "      <td>-73.8874</td>\n",
       "    </tr>\n",
       "    <tr>\n",
       "      <th>8</th>\n",
       "      <td>X002</td>\n",
       "      <td>Brady Playground</td>\n",
       "      <td>Bronxdale Blvd. &amp; Bronx Park East</td>\n",
       "      <td>4.0</td>\n",
       "      <td>40.8519</td>\n",
       "      <td>-73.8694</td>\n",
       "    </tr>\n",
       "    <tr>\n",
       "      <th>9</th>\n",
       "      <td>X183</td>\n",
       "      <td>Bruckner Playground</td>\n",
       "      <td>Phillips &amp; Cross Bronx Expressway</td>\n",
       "      <td>2.0</td>\n",
       "      <td>40.8267</td>\n",
       "      <td>-73.8290</td>\n",
       "    </tr>\n",
       "  </tbody>\n",
       "</table>\n",
       "</div>"
      ],
      "text/plain": [
       "  Prop_ID                      Name  \\\n",
       "0    X174        174 St. Playground   \n",
       "1    X126        Abigail Playground   \n",
       "2    X169  Agnes Haywood Playground   \n",
       "3    X172       Allerton Playground   \n",
       "4    X219        Arcilla Playground   \n",
       "5   X150J         Bailey Playground   \n",
       "6    X166        Behagen Playground   \n",
       "7    X108        Belmont Playground   \n",
       "8    X002          Brady Playground   \n",
       "9    X183       Bruckner Playground   \n",
       "\n",
       "                                        Location  Num_of_Courts      lat  \\\n",
       "0                  E. 174 and Bronx River Avenue            4.0      NaN   \n",
       "1                      Tinton Avenue, E. 156 St.            2.0      NaN   \n",
       "2            E. 215 St., Barnes Ave., E. 216 St.            2.0  40.8804   \n",
       "3  Allerton, Bouck, Throop Aves. & Stedman Place            4.0  40.8659   \n",
       "4       Clay, Park, and Teller Aves., E. 164 St.            4.0  40.8270   \n",
       "5                        Bailey Avenue & 234 St.            6.0  40.8818   \n",
       "6                     165-166 Sts., Union Avenue            2.0  40.8258   \n",
       "7  E. 181 & E. 182 Sts., Crotona & Belmont Aves.            6.0  40.8504   \n",
       "8              Bronxdale Blvd. & Bronx Park East            4.0  40.8519   \n",
       "9              Phillips & Cross Bronx Expressway            2.0  40.8267   \n",
       "\n",
       "       lon  \n",
       "0      NaN  \n",
       "1      NaN  \n",
       "2 -73.8621  \n",
       "3 -73.8506  \n",
       "4 -73.9148  \n",
       "5 -73.9002  \n",
       "6 -73.9008  \n",
       "7 -73.8874  \n",
       "8 -73.8694  \n",
       "9 -73.8290  "
      ]
     },
     "execution_count": 6,
     "metadata": {},
     "output_type": "execute_result"
    }
   ],
   "source": [
    "hb_filename = \"DPR_Handball_001.json\"\n",
    "hb_data = pd.read_json(os.path.join(data_dir, hb_filename))\n",
    "hb_data.head(10)"
   ]
  },
  {
   "cell_type": "code",
   "execution_count": 7,
   "id": "b5ac0dc7",
   "metadata": {},
   "outputs": [
    {
     "data": {
      "text/plain": [
       "(547, 6)"
      ]
     },
     "execution_count": 7,
     "metadata": {},
     "output_type": "execute_result"
    }
   ],
   "source": [
    "hb_data.shape"
   ]
  },
  {
   "cell_type": "markdown",
   "id": "522bcf00",
   "metadata": {},
   "source": [
    "### Number of courts per borough"
   ]
  },
  {
   "cell_type": "code",
   "execution_count": 8,
   "id": "0649b58f",
   "metadata": {},
   "outputs": [
    {
     "data": {
      "text/html": [
       "<div>\n",
       "<style scoped>\n",
       "    .dataframe tbody tr th:only-of-type {\n",
       "        vertical-align: middle;\n",
       "    }\n",
       "\n",
       "    .dataframe tbody tr th {\n",
       "        vertical-align: top;\n",
       "    }\n",
       "\n",
       "    .dataframe thead th {\n",
       "        text-align: right;\n",
       "    }\n",
       "</style>\n",
       "<table border=\"1\" class=\"dataframe\">\n",
       "  <thead>\n",
       "    <tr style=\"text-align: right;\">\n",
       "      <th></th>\n",
       "      <th>Prop_ID</th>\n",
       "      <th>Name</th>\n",
       "      <th>Location</th>\n",
       "      <th>Num_of_Courts</th>\n",
       "      <th>lat</th>\n",
       "      <th>lon</th>\n",
       "      <th>Borough</th>\n",
       "    </tr>\n",
       "  </thead>\n",
       "  <tbody>\n",
       "    <tr>\n",
       "      <th>0</th>\n",
       "      <td>X174</td>\n",
       "      <td>174 St. Playground</td>\n",
       "      <td>E. 174 and Bronx River Avenue</td>\n",
       "      <td>4.0</td>\n",
       "      <td>NaN</td>\n",
       "      <td>NaN</td>\n",
       "      <td>Bronx</td>\n",
       "    </tr>\n",
       "    <tr>\n",
       "      <th>1</th>\n",
       "      <td>X126</td>\n",
       "      <td>Abigail Playground</td>\n",
       "      <td>Tinton Avenue, E. 156 St.</td>\n",
       "      <td>2.0</td>\n",
       "      <td>NaN</td>\n",
       "      <td>NaN</td>\n",
       "      <td>Bronx</td>\n",
       "    </tr>\n",
       "    <tr>\n",
       "      <th>2</th>\n",
       "      <td>X169</td>\n",
       "      <td>Agnes Haywood Playground</td>\n",
       "      <td>E. 215 St., Barnes Ave., E. 216 St.</td>\n",
       "      <td>2.0</td>\n",
       "      <td>40.8804</td>\n",
       "      <td>-73.8621</td>\n",
       "      <td>Bronx</td>\n",
       "    </tr>\n",
       "    <tr>\n",
       "      <th>3</th>\n",
       "      <td>X172</td>\n",
       "      <td>Allerton Playground</td>\n",
       "      <td>Allerton, Bouck, Throop Aves. &amp; Stedman Place</td>\n",
       "      <td>4.0</td>\n",
       "      <td>40.8659</td>\n",
       "      <td>-73.8506</td>\n",
       "      <td>Bronx</td>\n",
       "    </tr>\n",
       "    <tr>\n",
       "      <th>4</th>\n",
       "      <td>X219</td>\n",
       "      <td>Arcilla Playground</td>\n",
       "      <td>Clay, Park, and Teller Aves., E. 164 St.</td>\n",
       "      <td>4.0</td>\n",
       "      <td>40.8270</td>\n",
       "      <td>-73.9148</td>\n",
       "      <td>Bronx</td>\n",
       "    </tr>\n",
       "  </tbody>\n",
       "</table>\n",
       "</div>"
      ],
      "text/plain": [
       "  Prop_ID                      Name  \\\n",
       "0    X174        174 St. Playground   \n",
       "1    X126        Abigail Playground   \n",
       "2    X169  Agnes Haywood Playground   \n",
       "3    X172       Allerton Playground   \n",
       "4    X219        Arcilla Playground   \n",
       "\n",
       "                                        Location  Num_of_Courts      lat  \\\n",
       "0                  E. 174 and Bronx River Avenue            4.0      NaN   \n",
       "1                      Tinton Avenue, E. 156 St.            2.0      NaN   \n",
       "2            E. 215 St., Barnes Ave., E. 216 St.            2.0  40.8804   \n",
       "3  Allerton, Bouck, Throop Aves. & Stedman Place            4.0  40.8659   \n",
       "4       Clay, Park, and Teller Aves., E. 164 St.            4.0  40.8270   \n",
       "\n",
       "       lon Borough  \n",
       "0      NaN   Bronx  \n",
       "1      NaN   Bronx  \n",
       "2 -73.8621   Bronx  \n",
       "3 -73.8506   Bronx  \n",
       "4 -73.9148   Bronx  "
      ]
     },
     "execution_count": 8,
     "metadata": {},
     "output_type": "execute_result"
    }
   ],
   "source": [
    "borough_id_map = {\"X\": \"Bronx\", \"B\": \"Brooklyn\", \"M\": \"Manhattan\", \"Q\": \"Queens\", \"R\":\"Staten Island\"}\n",
    "\n",
    "hb_data[\"Borough\"] = hb_data['Prop_ID'].str[0].map(borough_id_map)\n",
    "hb_data.head()"
   ]
  },
  {
   "cell_type": "code",
   "execution_count": 25,
   "id": "ebb639a3",
   "metadata": {},
   "outputs": [
    {
     "data": {
      "text/plain": [
       "Prop_ID            0\n",
       "Name               0\n",
       "Location           1\n",
       "Num_of_Courts      2\n",
       "lat              110\n",
       "lon              110\n",
       "Borough            0\n",
       "dtype: int64"
      ]
     },
     "execution_count": 25,
     "metadata": {},
     "output_type": "execute_result"
    }
   ],
   "source": [
    "hb_data.isnull().sum()"
   ]
  },
  {
   "cell_type": "code",
   "execution_count": 26,
   "id": "1cbf85d6",
   "metadata": {},
   "outputs": [
    {
     "data": {
      "text/plain": [
       "(547, 7)"
      ]
     },
     "execution_count": 26,
     "metadata": {},
     "output_type": "execute_result"
    }
   ],
   "source": [
    "hb_data.shape"
   ]
  },
  {
   "cell_type": "code",
   "execution_count": 27,
   "id": "37206e90",
   "metadata": {},
   "outputs": [
    {
     "data": {
      "text/plain": [
       "0.20109689213893966"
      ]
     },
     "execution_count": 27,
     "metadata": {},
     "output_type": "execute_result"
    }
   ],
   "source": [
    "110/547"
   ]
  },
  {
   "cell_type": "code",
   "execution_count": null,
   "id": "cf7dc061",
   "metadata": {},
   "outputs": [],
   "source": []
  },
  {
   "cell_type": "code",
   "execution_count": 9,
   "id": "73bdc25b",
   "metadata": {},
   "outputs": [
    {
     "data": {
      "text/html": [
       "<div>\n",
       "<style scoped>\n",
       "    .dataframe tbody tr th:only-of-type {\n",
       "        vertical-align: middle;\n",
       "    }\n",
       "\n",
       "    .dataframe tbody tr th {\n",
       "        vertical-align: top;\n",
       "    }\n",
       "\n",
       "    .dataframe thead th {\n",
       "        text-align: right;\n",
       "    }\n",
       "</style>\n",
       "<table border=\"1\" class=\"dataframe\">\n",
       "  <thead>\n",
       "    <tr style=\"text-align: right;\">\n",
       "      <th></th>\n",
       "      <th>Borough</th>\n",
       "      <th>Num_of_Courts</th>\n",
       "    </tr>\n",
       "  </thead>\n",
       "  <tbody>\n",
       "    <tr>\n",
       "      <th>0</th>\n",
       "      <td>Brooklyn</td>\n",
       "      <td>685.0</td>\n",
       "    </tr>\n",
       "    <tr>\n",
       "      <th>1</th>\n",
       "      <td>Queens</td>\n",
       "      <td>616.0</td>\n",
       "    </tr>\n",
       "    <tr>\n",
       "      <th>2</th>\n",
       "      <td>Bronx</td>\n",
       "      <td>398.0</td>\n",
       "    </tr>\n",
       "    <tr>\n",
       "      <th>3</th>\n",
       "      <td>Manhattan</td>\n",
       "      <td>259.0</td>\n",
       "    </tr>\n",
       "    <tr>\n",
       "      <th>4</th>\n",
       "      <td>Staten Island</td>\n",
       "      <td>52.0</td>\n",
       "    </tr>\n",
       "  </tbody>\n",
       "</table>\n",
       "</div>"
      ],
      "text/plain": [
       "         Borough  Num_of_Courts\n",
       "0       Brooklyn          685.0\n",
       "1         Queens          616.0\n",
       "2          Bronx          398.0\n",
       "3      Manhattan          259.0\n",
       "4  Staten Island           52.0"
      ]
     },
     "execution_count": 9,
     "metadata": {},
     "output_type": "execute_result"
    }
   ],
   "source": [
    "courts_by_bor = hb_data.groupby(\"Borough\")[\"Num_of_Courts\"].sum().sort_values(ascending = False).reset_index()\n",
    "courts_by_bor"
   ]
  },
  {
   "cell_type": "code",
   "execution_count": 10,
   "id": "63d1b0d6",
   "metadata": {},
   "outputs": [
    {
     "data": {
      "image/png": "[encoded data removed]",
      "text/plain": [
       "<Figure size 1000x600 with 1 Axes>"
      ]
     },
     "metadata": {},
     "output_type": "display_data"
    }
   ],
   "source": [
    "# Plotting the grouped data\n",
    "plt.figure(figsize=(10, 6))\n",
    "plt.bar(courts_by_bor['Borough'], courts_by_bor['Num_of_Courts'], color='skyblue')\n",
    "\n",
    "# Adding title and labels\n",
    "plt.title('Number of Courts by Borough', fontsize=16)\n",
    "plt.xlabel('Borough', fontsize=14)\n",
    "plt.ylabel('Number of Courts', fontsize=14)\n",
    "\n",
    "# Adding grid for better readability\n",
    "plt.grid(axis='y', linestyle='--', alpha=0.7)\n",
    "\n",
    "# Show the plot\n",
    "plt.show()"
   ]
  },
  {
   "cell_type": "markdown",
   "id": "3dec4b55",
   "metadata": {},
   "source": [
    "### Create map of nyc using folium"
   ]
  },
  {
   "cell_type": "code",
   "execution_count": 19,
   "id": "36f5dc5b",
   "metadata": {},
   "outputs": [
    {
     "data": {
      "text/html": [
       "<div style=\"width:100%;\"><div style=\"position:relative;width:100%;height:0;padding-bottom:60%;\"><span style=\"color:#565656\">Make this Notebook Trusted to load map: File -> Trust Notebook</span><iframe srcdoc=\"&lt;!DOCTYPE html&gt;\n",
       "&lt;html&gt;\n",
       "&lt;head&gt;\n",
       "    \n",
       "    &lt;meta http-equiv=&quot;content-type&quot; content=&quot;text/html; charset=UTF-8&quot; /&gt;\n",
       "    \n",
       "        &lt;script&gt;\n",
       "            L_NO_TOUCH = false;\n",
       "            L_DISABLE_3D = false;\n",
       "        &lt;/script&gt;\n",
       "    \n",
       "    &lt;style&gt;html, body {width: 100%;height: 100%;margin: 0;padding: 0;}&lt;/style&gt;\n",
       "    &lt;style&gt;#map {position:absolute;top:0;bottom:0;right:0;left:0;}&lt;/style&gt;\n",
       "    &lt;script src=&quot;https://cdn.jsdelivr.net/npm/leaflet@1.9.3/dist/leaflet.js&quot;&gt;&lt;/script&gt;\n",
       "    &lt;script src=&quot;https://code.jquery.com/jquery-1.12.4.min.js&quot;&gt;&lt;/script&gt;\n",
       "    &lt;script src=&quot;https://cdn.jsdelivr.net/npm/bootstrap@5.2.2/dist/js/bootstrap.bundle.min.js&quot;&gt;&lt;/script&gt;\n",
       "    &lt;script src=&quot;https://cdnjs.cloudflare.com/ajax/libs/Leaflet.awesome-markers/2.0.2/leaflet.awesome-markers.js&quot;&gt;&lt;/script&gt;\n",
       "    &lt;link rel=&quot;stylesheet&quot; href=&quot;https://cdn.jsdelivr.net/npm/leaflet@1.9.3/dist/leaflet.css&quot;/&gt;\n",
       "    &lt;link rel=&quot;stylesheet&quot; href=&quot;https://cdn.jsdelivr.net/npm/bootstrap@5.2.2/dist/css/bootstrap.min.css&quot;/&gt;\n",
       "    &lt;link rel=&quot;stylesheet&quot; href=&quot;https://netdna.bootstrapcdn.com/bootstrap/3.0.0/css/bootstrap.min.css&quot;/&gt;\n",
       "    &lt;link rel=&quot;stylesheet&quot; href=&quot;https://cdn.jsdelivr.net/npm/@fortawesome/fontawesome-free@6.2.0/css/all.min.css&quot;/&gt;\n",
       "    &lt;link rel=&quot;stylesheet&quot; href=&quot;https://cdnjs.cloudflare.com/ajax/libs/Leaflet.awesome-markers/2.0.2/leaflet.awesome-markers.css&quot;/&gt;\n",
       "    &lt;link rel=&quot;stylesheet&quot; href=&quot;https://cdn.jsdelivr.net/gh/python-visualization/folium/folium/templates/leaflet.awesome.rotate.min.css&quot;/&gt;\n",
       "    \n",
       "            &lt;meta name=&quot;viewport&quot; content=&quot;width=device-width,\n",
       "                initial-scale=1.0, maximum-scale=1.0, user-scalable=no&quot; /&gt;\n",
       "            &lt;style&gt;\n",
       "                #map_0e73f1d3a1cd494978bdc7b02e16aaa6 {\n",
       "                    position: relative;\n",
       "                    width: 100.0%;\n",
       "                    height: 100.0%;\n",
       "                    left: 0.0%;\n",
       "                    top: 0.0%;\n",
       "                }\n",
       "                .leaflet-container { font-size: 1rem; }\n",
       "            &lt;/style&gt;\n",
       "        \n",
       "&lt;/head&gt;\n",
       "&lt;body&gt;\n",
       "    \n",
       "    \n",
       "            &lt;div class=&quot;folium-map&quot; id=&quot;map_0e73f1d3a1cd494978bdc7b02e16aaa6&quot; &gt;&lt;/div&gt;\n",
       "        \n",
       "&lt;/body&gt;\n",
       "&lt;script&gt;\n",
       "    \n",
       "    \n",
       "            var map_0e73f1d3a1cd494978bdc7b02e16aaa6 = L.map(\n",
       "                &quot;map_0e73f1d3a1cd494978bdc7b02e16aaa6&quot;,\n",
       "                {\n",
       "                    center: [40.7128, -74.006],\n",
       "                    crs: L.CRS.EPSG3857,\n",
       "                    zoom: 12.5,\n",
       "                    zoomControl: true,\n",
       "                    preferCanvas: false,\n",
       "                }\n",
       "            );\n",
       "\n",
       "            \n",
       "\n",
       "        \n",
       "    \n",
       "            var tile_layer_d6b908e8e74a24942c5ebab493b1743b = L.tileLayer(\n",
       "                &quot;https://{s}.tile.openstreetmap.org/{z}/{x}/{y}.png&quot;,\n",
       "                {&quot;attribution&quot;: &quot;Data by \\u0026copy; \\u003ca target=\\&quot;_blank\\&quot; href=\\&quot;http://openstreetmap.org\\&quot;\\u003eOpenStreetMap\\u003c/a\\u003e, under \\u003ca target=\\&quot;_blank\\&quot; href=\\&quot;http://www.openstreetmap.org/copyright\\&quot;\\u003eODbL\\u003c/a\\u003e.&quot;, &quot;detectRetina&quot;: false, &quot;maxNativeZoom&quot;: 18, &quot;maxZoom&quot;: 18, &quot;minZoom&quot;: 0, &quot;noWrap&quot;: false, &quot;opacity&quot;: 1, &quot;subdomains&quot;: &quot;abc&quot;, &quot;tms&quot;: false}\n",
       "            ).addTo(map_0e73f1d3a1cd494978bdc7b02e16aaa6);\n",
       "        \n",
       "&lt;/script&gt;\n",
       "&lt;/html&gt;\" style=\"position:absolute;width:100%;height:100%;left:0;top:0;border:none !important;\" allowfullscreen webkitallowfullscreen mozallowfullscreen></iframe></div></div>"
      ],
      "text/plain": [
       "<folium.folium.Map at 0x126246510>"
      ]
     },
     "execution_count": 19,
     "metadata": {},
     "output_type": "execute_result"
    }
   ],
   "source": [
    "# Initialize the map at the center of NYC\n",
    "\n",
    "# Source: https://dev.to/manifoldmindaway/plotting-the-trees-of-nyc-with-folium-4ffo\n",
    "\n",
    "center_lat = 40.7128\n",
    "center_lon = -74.0060\n",
    "nyc_map = folium.Map(location=[center_lat, center_lon], zoom_start=12.5)\n",
    "nyc_map"
   ]
  },
  {
   "cell_type": "code",
   "execution_count": 24,
   "id": "ee505515",
   "metadata": {},
   "outputs": [
    {
     "ename": "ValueError",
     "evalue": "Location values cannot contain NaNs.",
     "output_type": "error",
     "traceback": [
      "\u001b[0;31m---------------------------------------------------------------------------\u001b[0m",
      "\u001b[0;31mValueError\u001b[0m                                Traceback (most recent call last)",
      "Cell \u001b[0;32mIn[24], line 5\u001b[0m\n\u001b[1;32m      1\u001b[0m \u001b[38;5;66;03m# source: https://python-graph-gallery.com/288-map-background-with-folium/\u001b[39;00m\n\u001b[1;32m      2\u001b[0m \n\u001b[1;32m      3\u001b[0m \u001b[38;5;66;03m# Add markers to map \u001b[39;00m\n\u001b[1;32m      4\u001b[0m \u001b[38;5;28;01mfor\u001b[39;00m idx, row \u001b[38;5;129;01min\u001b[39;00m hb_data\u001b[38;5;241m.\u001b[39miterrows():\n\u001b[0;32m----> 5\u001b[0m     folium\u001b[38;5;241m.\u001b[39mMarker(location\u001b[38;5;241m=\u001b[39m[row[\u001b[38;5;124m'\u001b[39m\u001b[38;5;124mlat\u001b[39m\u001b[38;5;124m'\u001b[39m], row[\u001b[38;5;124m'\u001b[39m\u001b[38;5;124mlon\u001b[39m\u001b[38;5;124m'\u001b[39m]], popup\u001b[38;5;241m=\u001b[39mrow[\u001b[38;5;124m'\u001b[39m\u001b[38;5;124mName\u001b[39m\u001b[38;5;124m'\u001b[39m])\u001b[38;5;241m.\u001b[39madd_to(nyc_map)\n",
      "File \u001b[0;32m~/anaconda3/envs/nycc/lib/python3.12/site-packages/folium/map.py:326\u001b[0m, in \u001b[0;36mMarker.__init__\u001b[0;34m(self, location, popup, tooltip, icon, draggable, **kwargs)\u001b[0m\n\u001b[1;32m    324\u001b[0m \u001b[38;5;28msuper\u001b[39m()\u001b[38;5;241m.\u001b[39m\u001b[38;5;21m__init__\u001b[39m()\n\u001b[1;32m    325\u001b[0m \u001b[38;5;28mself\u001b[39m\u001b[38;5;241m.\u001b[39m_name \u001b[38;5;241m=\u001b[39m \u001b[38;5;124m\"\u001b[39m\u001b[38;5;124mMarker\u001b[39m\u001b[38;5;124m\"\u001b[39m\n\u001b[0;32m--> 326\u001b[0m \u001b[38;5;28mself\u001b[39m\u001b[38;5;241m.\u001b[39mlocation \u001b[38;5;241m=\u001b[39m validate_location(location) \u001b[38;5;28;01mif\u001b[39;00m location \u001b[38;5;129;01mis\u001b[39;00m \u001b[38;5;129;01mnot\u001b[39;00m \u001b[38;5;28;01mNone\u001b[39;00m \u001b[38;5;28;01melse\u001b[39;00m \u001b[38;5;28;01mNone\u001b[39;00m\n\u001b[1;32m    327\u001b[0m \u001b[38;5;28mself\u001b[39m\u001b[38;5;241m.\u001b[39moptions \u001b[38;5;241m=\u001b[39m parse_options(\n\u001b[1;32m    328\u001b[0m     draggable\u001b[38;5;241m=\u001b[39mdraggable \u001b[38;5;129;01mor\u001b[39;00m \u001b[38;5;28;01mNone\u001b[39;00m, autoPan\u001b[38;5;241m=\u001b[39mdraggable \u001b[38;5;129;01mor\u001b[39;00m \u001b[38;5;28;01mNone\u001b[39;00m, \u001b[38;5;241m*\u001b[39m\u001b[38;5;241m*\u001b[39mkwargs\n\u001b[1;32m    329\u001b[0m )\n\u001b[1;32m    330\u001b[0m \u001b[38;5;28;01mif\u001b[39;00m icon \u001b[38;5;129;01mis\u001b[39;00m \u001b[38;5;129;01mnot\u001b[39;00m \u001b[38;5;28;01mNone\u001b[39;00m:\n",
      "File \u001b[0;32m~/anaconda3/envs/nycc/lib/python3.12/site-packages/folium/utilities.py:78\u001b[0m, in \u001b[0;36mvalidate_location\u001b[0;34m(location)\u001b[0m\n\u001b[1;32m     71\u001b[0m         \u001b[38;5;28;01mraise\u001b[39;00m \u001b[38;5;167;01mValueError\u001b[39;00m(\n\u001b[1;32m     72\u001b[0m             \u001b[38;5;124m\"\u001b[39m\u001b[38;5;124mLocation should consist of two numerical values, \u001b[39m\u001b[38;5;124m\"\u001b[39m\n\u001b[1;32m     73\u001b[0m             \u001b[38;5;124m\"\u001b[39m\u001b[38;5;124mbut \u001b[39m\u001b[38;5;132;01m{!r}\u001b[39;00m\u001b[38;5;124m of type \u001b[39m\u001b[38;5;132;01m{}\u001b[39;00m\u001b[38;5;124m is not convertible to float.\u001b[39m\u001b[38;5;124m\"\u001b[39m\u001b[38;5;241m.\u001b[39mformat(\n\u001b[1;32m     74\u001b[0m                 coord, \u001b[38;5;28mtype\u001b[39m(coord)\n\u001b[1;32m     75\u001b[0m             )\n\u001b[1;32m     76\u001b[0m         )\n\u001b[1;32m     77\u001b[0m     \u001b[38;5;28;01mif\u001b[39;00m math\u001b[38;5;241m.\u001b[39misnan(\u001b[38;5;28mfloat\u001b[39m(coord)):\n\u001b[0;32m---> 78\u001b[0m         \u001b[38;5;28;01mraise\u001b[39;00m \u001b[38;5;167;01mValueError\u001b[39;00m(\u001b[38;5;124m\"\u001b[39m\u001b[38;5;124mLocation values cannot contain NaNs.\u001b[39m\u001b[38;5;124m\"\u001b[39m)\n\u001b[1;32m     79\u001b[0m \u001b[38;5;28;01mreturn\u001b[39;00m [\u001b[38;5;28mfloat\u001b[39m(x) \u001b[38;5;28;01mfor\u001b[39;00m x \u001b[38;5;129;01min\u001b[39;00m coords]\n",
      "\u001b[0;31mValueError\u001b[0m: Location values cannot contain NaNs."
     ]
    }
   ],
   "source": [
    "# source: https://python-graph-gallery.com/288-map-background-with-folium/\n",
    "\n",
    "# Add markers to map \n",
    "for idx, row in hb_data.iterrows():\n",
    "    folium.Marker(location=[row['lat'], row['lon']], popup=row['Name']).add_to(nyc_map)"
   ]
  },
  {
   "cell_type": "code",
   "execution_count": null,
   "id": "a65995b1",
   "metadata": {},
   "outputs": [],
   "source": [
    "\n"
   ]
  }
 ],
 "metadata": {
  "kernelspec": {
   "display_name": "Python [conda env:nycc]",
   "language": "python",
   "name": "conda-env-nycc-py"
  },
  "language_info": {
   "codemirror_mode": {
    "name": "ipython",
    "version": 3
   },
   "file_extension": ".py",
   "mimetype": "text/x-python",
   "name": "python",
   "nbconvert_exporter": "python",
   "pygments_lexer": "ipython3",
   "version": "3.12.4"
  }
 },
 "nbformat": 4,
 "nbformat_minor": 5
}
